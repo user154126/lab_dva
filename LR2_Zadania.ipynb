{
 "cells": [
  {
   "cell_type": "markdown",
   "id": "ff60d241-d7d2-4906-9c57-8094cd180371",
   "metadata": {},
   "source": [
    "## Задание №1. Создание и изменение массивов.\n",
    "\n",
    "Создайте массив NumPy размером 3×3, содержащий числа от 1 до 9. Умножьте все элементы массива на 2, а затем замените все элементы больше 10 на 0. Выведите итоговый массив. "
   ]
  },
  {
   "cell_type": "code",
   "execution_count": 166,
   "id": "9ca8eacc-1a2e-457a-9006-0502538a4d7b",
   "metadata": {},
   "outputs": [
    {
     "name": "stdout",
     "output_type": "stream",
     "text": [
      "Итоговый массив:\n",
      " [[ 2  4  6]\n",
      " [ 8 10  0]\n",
      " [ 0  0  0]]\n"
     ]
    }
   ],
   "source": [
    "import numpy as np\n",
    "mas = np.arange(1, 10).reshape(3, 3)\n",
    "\n",
    "mas *= 2\n",
    "\n",
    "mas[mas > 10] = 0\n",
    "\n",
    "print(\"Итоговый массив:\\n\", mas)"
   ]
  },
  {
   "cell_type": "markdown",
   "id": "e0275c0d-694f-4002-8430-0c54f3b81dc4",
   "metadata": {},
   "source": [
    "## Задание №2. Работа с булевыми масками.\n",
    "\n",
    "Создайте массив NumPy из 20 случайных целых чисел от 1 до 100. Найдите и выведите все элементы, которые делятся на 5 без остатка. Затем замените их на -1 и выведите обновленный массив."
   ]
  },
  {
   "cell_type": "code",
   "execution_count": 169,
   "id": "d6f7b3e3-3c96-47b6-aa06-bbc7328fb8c2",
   "metadata": {},
   "outputs": [
    {
     "name": "stdout",
     "output_type": "stream",
     "text": [
      "Элементы, которые делятся на 5 без остатка: [85 25 45 80] \n",
      "\n",
      "[59 66 84 54 81  9 83  8 88 61 27 -1 53 88 -1 14 51 -1 -1 91]\n"
     ]
    }
   ],
   "source": [
    "mas = np.random.randint(1, 101, size=20)\n",
    "\n",
    "mask = mas % 5 == 0\n",
    "div5 = mas[mask]\n",
    "\n",
    "mas[mask] = -1\n",
    "\n",
    "print(\"Элементы, которые делятся на 5 без остатка:\", div5, \"\\n\")\n",
    "print(mas)"
   ]
  },
  {
   "cell_type": "markdown",
   "id": "dd5cba64-c469-491f-8621-d00d8831b574",
   "metadata": {},
   "source": [
    "## Задание №3. Объединение и разбиение массивов.\n",
    "\n",
    "Создайте два массива NumPy размером 1×5, заполненные случайными числами от 0 до 50.\n",
    "\n",
    "1. Объедините эти массивы в один двумерный массив (по строкам).\n",
    "2. Разделите полученный массив на два массива, каждый из которых содержит 5 элементов.\n",
    "\n",
    "Выведите все промежуточные и итоговые результаты.\n"
   ]
  },
  {
   "cell_type": "code",
   "execution_count": 172,
   "id": "f45a4948-6ad7-4858-af1f-dbe781cf3250",
   "metadata": {},
   "outputs": [
    {
     "name": "stdout",
     "output_type": "stream",
     "text": [
      "Исходные массивы:\n",
      " 1. [[24 44 29 32 40]] \n",
      " 2. [[ 8 44 28 12 43]] \n",
      "\n",
      "Объединённый массив:\n",
      " [[24 44 29 32 40]\n",
      " [ 8 44 28 12 43]] \n",
      "\n",
      "Разделенный массив 1: [[24 44 29 32 40]]\n",
      "Разделенный массив 2: [[ 8 44 28 12 43]]\n"
     ]
    }
   ],
   "source": [
    "mas1 = np.random.randint(0, 51, (1, 5))\n",
    "mas2 = np.random.randint(0, 51, (1, 5))\n",
    "\n",
    "print(\"Исходные массивы:\\n\", \"1.\", mas1, \"\\n\", \"2.\", mas2, \"\\n\")\n",
    "\n",
    "combined_mas = np.vstack((mas1, mas2))\n",
    "\n",
    "print(\"Объединённый массив:\\n\", combined_mas, \"\\n\")\n",
    "\n",
    "split_mas1, split_mas2 = np.split(combined_mas, 2)\n",
    "\n",
    "print(\"Разделенный массив 1:\", split_mas1)\n",
    "print(\"Разделенный массив 2:\", split_mas2)"
   ]
  },
  {
   "cell_type": "markdown",
   "id": "7b5ede78-0ee8-44bc-bda9-2594293c39b7",
   "metadata": {},
   "source": [
    "## Задание №4. Генерация и работа с линейными последовательностями.\n",
    "\n",
    "Создайте массив из 50 чисел, равномерно распределенных от -10 до 10. Вычислите сумму всех элементов, сумму положительных элементов и сумму отрицательных элементов. Выведите результаты."
   ]
  },
  {
   "cell_type": "code",
   "execution_count": 175,
   "id": "eb2115e3-5a20-4ef9-a5c4-ce7a6ecce8b9",
   "metadata": {},
   "outputs": [
    {
     "name": "stdout",
     "output_type": "stream",
     "text": [
      "Массив: [-7.32580646 -5.35414983 -1.28971222 -2.51347929  2.34504533  2.17733071\n",
      " -8.64389985 -6.80336461  7.78484921  9.60224375 -3.24720069  7.8878476\n",
      " -7.01550034 -8.71622496 -3.53358841 -7.88893166 -3.50311407 -5.30954396\n",
      " -5.66368184  5.70127339  3.692938    4.01453673  0.62262233  7.73817657\n",
      "  5.00355164  5.84058029 -5.74619751 -1.29014904  4.49438474 -8.34861279\n",
      " -9.91725415 -4.52543035  4.75203691 -7.0390215   5.7217598   5.93414562\n",
      " -0.99144376  5.03373145 -8.89529661  7.97390646 -2.52218257  4.45756105\n",
      "  9.29832127  3.26584639 -8.76181391 -9.53931396 -1.79386337 -0.13356523\n",
      "  0.02284037  4.81644421]\n",
      "Сумма всех элементов: -28.13036911694777\n",
      "Сумма положительных элементов: 118.18197382127559\n",
      "Сумма отрицательных элементов: -146.3123429382234\n"
     ]
    }
   ],
   "source": [
    "mas = np.random.uniform(-10, 10, 50)\n",
    "\n",
    "sum_elements = np.sum(mas)\n",
    "\n",
    "sum_positive = np.sum(mas[mas > 0])\n",
    "\n",
    "sum_negative = np.sum(mas[mas < 0])\n",
    "\n",
    "print(\"Массив:\", mas)\n",
    "print(\"Сумма всех элементов:\", sum_elements)\n",
    "print(\"Сумма положительных элементов:\", sum_positive)\n",
    "print(\"Сумма отрицательных элементов:\", sum_negative)"
   ]
  },
  {
   "cell_type": "markdown",
   "id": "fa40f0e5-849f-4c4d-98ff-f2b4c84ecbe3",
   "metadata": {},
   "source": [
    "## Задание №5. Работа  с диагональными и единичными матрицами.\n",
    "\n",
    "Создайте:\n",
    "\n",
    "1. Единичную матрицу размером 4×4. \n",
    "2. Диагональную матрицу размером 4×4 с диагональными элементами [5, 10, 15, 20] (не использовать циклы).\n",
    "\n",
    "Найдите сумму всех элементов каждой из этих матриц и сравните результаты.\n"
   ]
  },
  {
   "cell_type": "code",
   "execution_count": 178,
   "id": "8bf21a58-a0d9-4787-8817-bccccc2746db",
   "metadata": {},
   "outputs": [
    {
     "name": "stdout",
     "output_type": "stream",
     "text": [
      "Единичная матрица:\n",
      " [[1. 0. 0. 0.]\n",
      " [0. 1. 0. 0.]\n",
      " [0. 0. 1. 0.]\n",
      " [0. 0. 0. 1.]]\n",
      "Сумма элементов единичной матрицы: 4.0\n",
      "Диагональная матрица:\n",
      " [[ 5  0  0  0]\n",
      " [ 0 10  0  0]\n",
      " [ 0  0 15  0]\n",
      " [ 0  0  0 20]]\n",
      "Сумма элементов диагональной матрицы: 50\n"
     ]
    }
   ],
   "source": [
    "matrix_eye = np.eye(4)\n",
    "sum_matrix_eye = np.sum(matrix_eye)\n",
    "\n",
    "matrix_eyeDiag = np.diag([5, 10, 15, 20])\n",
    "sum_matrix_eyeDiag = np.sum(matrix_eyeDiag)\n",
    "\n",
    "print(\"Единичная матрица:\\n\", matrix_eye)\n",
    "print(\"Сумма элементов единичной матрицы:\", sum_matrix_eye)\n",
    "\n",
    "print(\"Диагональная матрица:\\n\", matrix_eyeDiag)\n",
    "print(\"Сумма элементов диагональной матрицы:\", sum_matrix_eyeDiag)"
   ]
  },
  {
   "cell_type": "markdown",
   "id": "8efc7669-b140-4f43-b62d-bf6f78cf802b",
   "metadata": {},
   "source": [
    "## Задание №6. Создание и базовые операции с матрицами.\n",
    "\n",
    "Создайте две квадратные матрицы NumPy размером 3×3, заполненные случайными целыми числами от 1 до 20. \n",
    "\n",
    "Вычислите и выведите:\n",
    "1. Их сумму\n",
    "2. Их разность \n",
    "3. Их поэлементное произведение\n",
    "\n"
   ]
  },
  {
   "cell_type": "code",
   "execution_count": 181,
   "id": "61745f9e-299f-44dc-acd6-d811531828ab",
   "metadata": {},
   "outputs": [
    {
     "name": "stdout",
     "output_type": "stream",
     "text": [
      "Матрица №1:\n",
      " [[ 4  5 17]\n",
      " [12  4 19]\n",
      " [16 13 18]]\n",
      "Матрица №2:\n",
      " [[18  2 19]\n",
      " [10  3  9]\n",
      " [18 12  7]]\n",
      "Сумма матриц:\n",
      " [[22  7 36]\n",
      " [22  7 28]\n",
      " [34 25 25]]\n",
      "Разность матриц:\n",
      " [[-14   3  -2]\n",
      " [  2   1  10]\n",
      " [ -2   1  11]]\n",
      "Поэлементное произведение матриц:\n",
      " [[ 72  10 323]\n",
      " [120  12 171]\n",
      " [288 156 126]]\n"
     ]
    }
   ],
   "source": [
    "matrix1 = np.matrix(np.random.randint(1, 21, (3, 3)))\n",
    "matrix2 = np.matrix(np.random.randint(1, 21, (3, 3)))\n",
    "\n",
    "sum_matrix = matrix1 + matrix2\n",
    "diff_matrix = matrix1 - matrix2\n",
    "el_product_matrix = np.multiply(matrix1, matrix2) \n",
    "\n",
    "print(\"Матрица №1:\\n\", matrix1)\n",
    "print(\"Матрица №2:\\n\", matrix2)\n",
    "print(\"Сумма матриц:\\n\", sum_matrix)\n",
    "print(\"Разность матриц:\\n\", diff_matrix)\n",
    "print(\"Поэлементное произведение матриц:\\n\", el_product_matrix)"
   ]
  },
  {
   "cell_type": "markdown",
   "id": "01c9e33d-d180-46c4-abec-f9b584ca1a46",
   "metadata": {},
   "source": [
    "## Задание №7. Умножение матриц.\n",
    "\n",
    "Создайте две матрицы NumPy: \n",
    "\n",
    "1. Первую размером 2×3, заполненную случайными числами от 1 до 10. \n",
    "2. Вторую размером 3×2, заполненную случайными числами от 1 до 10.\n",
    "\n",
    "Выполните матричное умножение (@ или np.dot) и выведите результат\n"
   ]
  },
  {
   "cell_type": "code",
   "execution_count": 61,
   "id": "16156ed4-68eb-4fe0-87da-5825edc6f580",
   "metadata": {},
   "outputs": [
    {
     "name": "stdout",
     "output_type": "stream",
     "text": [
      "Первая матрица:\n",
      " [[5 4 1]\n",
      " [6 9 7]]\n",
      "Вторая матрица:\n",
      " [[ 2  2]\n",
      " [10  2]\n",
      " [ 7  5]]\n",
      "Результат матричного умножения:\n",
      " [[ 57  23]\n",
      " [151  65]]\n"
     ]
    }
   ],
   "source": [
    "matrix1 = np.matrix(np.random.randint(1, 11, (2, 3)))\n",
    "matrix2 = np.matrix(np.random.randint(1, 11, (3, 2)))\n",
    "\n",
    "dot_matrix = np.dot(matrix1, matrix2)\n",
    "\n",
    "print(\"Первая матрица:\\n\", matrix1)\n",
    "print(\"Вторая матрица:\\n\", matrix2)\n",
    "print(\"Результат матричного умножения:\\n\", dot_matrix)"
   ]
  },
  {
   "cell_type": "markdown",
   "id": "394d415c-7d77-4b26-bb4e-af4c51a0f22a",
   "metadata": {},
   "source": [
    "## Задание №8. Определитель и обратная матрица.\n",
    "\n",
    "Создайте случайную квадратную матрицу 3×3. Найдите и выведите: \n",
    "\n",
    "1. Определитель этой матрицы \n",
    "2. Обратную матрицу (если существует, иначе выведите сообщение, что матрица вырождена)\n",
    "   \n",
    "Используйте функции np.linalg.det и np.linalg.inv.\n"
   ]
  },
  {
   "cell_type": "code",
   "execution_count": 67,
   "id": "86db7169-8635-46a2-bca9-8213ba815a6e",
   "metadata": {},
   "outputs": [
    {
     "name": "stdout",
     "output_type": "stream",
     "text": [
      "Обратная матрица:\n",
      " [[ 22.  -19.    4.5]\n",
      " [ -6.    5.   -1. ]\n",
      " [ -9.    8.   -2. ]]\n"
     ]
    }
   ],
   "source": [
    "matrix = np.matrix(np.random.randint(1, 11, (3, 3)))\n",
    "determinant = np.linalg.det(matrix)\n",
    "\n",
    "if np.isclose(determinant, 0):\n",
    "    print(\"Матрица вырожденная\")\n",
    "else:\n",
    "    print(\"Обратная матрица:\\n\", np.linalg.inv(matrix))"
   ]
  },
  {
   "cell_type": "markdown",
   "id": "6cd8e738-7aa1-4904-a7c1-872c8a04560c",
   "metadata": {},
   "source": [
    "## Задание №9. Транспонирование и след матрицы.\n",
    "\n",
    "Создайте матрицу NumPy размером 4×4, содержащую случайные целые числа от 1 до 50. Выведите: \n",
    "1. Исходную матрицу \n",
    "2. Транспонированную матрицу \n",
    "3. След матрицы (сумму элементов на главной диагонали)\n",
    "   \n",
    "Используйте np.trace для нахождения следа.\n"
   ]
  },
  {
   "cell_type": "code",
   "execution_count": 69,
   "id": "9393c92d-2e1a-4f1d-9a0d-fb05a202f156",
   "metadata": {},
   "outputs": [
    {
     "name": "stdout",
     "output_type": "stream",
     "text": [
      "Исходная матрица:\n",
      " [[ 3 16  5 21]\n",
      " [25  5  3 20]\n",
      " [21 12 48 11]\n",
      " [ 6 25 25 21]]\n",
      "Транспонированная матрица:\n",
      " [[ 3 25 21  6]\n",
      " [16  5 12 25]\n",
      " [ 5  3 48 25]\n",
      " [21 20 11 21]]\n",
      "След матрицы: 77\n"
     ]
    }
   ],
   "source": [
    "matrix = np.matrix(np.random.randint(1, 51, (4, 4)))\n",
    "\n",
    "transpons_matrix = matrix.T\n",
    "trace_of_matrix = np.trace(matrix)\n",
    "\n",
    "print(\"Исходная матрица:\\n\", matrix)\n",
    "print(\"Транспонированная матрица:\\n\", transpons_matrix)\n",
    "print(\"След матрицы:\", trace_of_matrix)"
   ]
  },
  {
   "cell_type": "markdown",
   "id": "68ddc7b5-c86f-4f99-b970-1b96d35023fc",
   "metadata": {},
   "source": [
    "## Задание №10. Системы линейных уравнений.\n",
    "\n",
    "Решить систему линейных уравнений.\n",
    "\n",
    "\\begin{cases}\n",
    "2x + 3y - z = 5 \\\\\n",
    "4x - y + 2z = 6 \\\\\n",
    "-3x + 5y + 4z = -2\n",
    "\\end{cases}\n",
    "\n",
    "Используйте матричное представление AX = B , где A – матрица коэффициентов,\n",
    "x – вектор неизвестных, B – вектор правой части. Решите систему с помощью\n",
    "np.linalg.solve и выведите результат."
   ]
  },
  {
   "cell_type": "code",
   "execution_count": 74,
   "id": "64897ff3-3adc-4b0e-98ef-e2e0b7f8ff75",
   "metadata": {},
   "outputs": [
    {
     "name": "stdout",
     "output_type": "stream",
     "text": [
      "Решение системы уравнений:\n",
      " [1.63963964 0.57657658 0.00900901]\n"
     ]
    }
   ],
   "source": [
    "A = np.array([\n",
    "    [2, 3, -1],\n",
    "    [4, -1, 2],\n",
    "    [-3, 5, 4]])\n",
    "B = np.array([5, 6, -2])\n",
    "x = np.linalg.solve(A, B)\n",
    "\n",
    "print(\"Решение системы уравнений:\\n\", x)"
   ]
  },
  {
   "cell_type": "markdown",
   "id": "2aaf9f62-39e4-4475-b29f-b4ec8d61cd40",
   "metadata": {},
   "source": [
    "## Задание №11. \n",
    "Каждое задание предусматривает построение системы линейных уравнений. Решите полученную\n",
    "систему уравнений с использованием библиотеки NumPy. Для решения системы используйте метод Крамера и матричный метод. Сравните полученные результаты, с результатами, полученными с помощью np.linalg.solve.\n",
    "\n",
    "**Вариант №13.** Три сотрудника должны выполнить работу за минимальное время. Первый выполняет задачу за 5 часов, второй — за 3 часа, а третий — за 2 часа. Как распределить работу между ними, если всего 20 задач?"
   ]
  },
  {
   "cell_type": "markdown",
   "id": "296a1d4f-251f-4036-ac60-98bedbf17062",
   "metadata": {},
   "source": [
    "Пусть:\n",
    "\n",
    "1. $x_1$ - количество задач, выполненных первым сотрудником.\n",
    "2. $x_2$ - количество задач, выполненных вторым сотрудником.\n",
    "3. $x_3$ - количество задач, выполненных третим сотрудником.\n",
    "\n",
    "Тогда: $x_1 + x_2 + x_3 = 20$\n",
    "\n",
    "Учитывая скорость работы в час: $\\frac{x_1}{5}$ = $\\frac{x_2}{3}$ = $\\frac{x_3}{2}$ = t\n",
    "\n",
    "Получаем следующую систему уравнений:\n",
    "\n",
    "\\begin{cases} \n",
    "x_1 + x_2 + x_3 = 20 \\\\\n",
    "3x_1 - 5x_2 = 0 \\\\ \n",
    "2x_1 - 5x_3 = 0 \n",
    "\\end{cases}\n"
   ]
  },
  {
   "cell_type": "code",
   "execution_count": 138,
   "id": "8f388c64-f262-4ac4-8636-f65d6f130d0b",
   "metadata": {},
   "outputs": [
    {
     "name": "stdout",
     "output_type": "stream",
     "text": [
      "X1 = 10 \n",
      "X2 = 6 \n",
      "X3 = 4\n"
     ]
    }
   ],
   "source": [
    "# Метод крамера\n",
    "\n",
    "A = np.array([[1, 1, 1],\n",
    "              [3, -5, 0],\n",
    "              [2, 0, -5]])\n",
    "\n",
    "B = np.array([20, 0, 0])\n",
    "\n",
    "det_A = np.linalg.det(A)\n",
    "\n",
    "A1 = A.copy()\n",
    "A1[:, 0] = B\n",
    "det_A1 = np.linalg.det(A1)\n",
    "\n",
    "A2 = A.copy()\n",
    "A2[:, 1] = B\n",
    "det_A2 = np.linalg.det(A2)\n",
    "\n",
    "A3 = A.copy()\n",
    "A3[:, 2] = B\n",
    "det_A3 = np.linalg.det(A3)\n",
    "\n",
    "x1_cramer = round(det_A1 / det_A)\n",
    "x2_cramer = round(det_A2 / det_A)\n",
    "x3_cramer = round(det_A3 / det_A)\n",
    "\n",
    "print(\"X1 =\", x1_cramer, \"\\nX2 =\", x2_cramer, \"\\nX3 =\", x3_cramer)\n"
   ]
  },
  {
   "cell_type": "code",
   "execution_count": 155,
   "id": "78e16689-6eea-4bdc-bed7-7ed1d89a0d34",
   "metadata": {},
   "outputs": [
    {
     "name": "stdout",
     "output_type": "stream",
     "text": [
      "X1 = 10 \n",
      "X2 = 6 \n",
      "X3 = 4\n"
     ]
    }
   ],
   "source": [
    "# Матричный метод\n",
    "\n",
    "inverse_A = np.linalg.inv(A)\n",
    "solution_matrix = inverse_A @ B\n",
    "\n",
    "print(\"X1 =\", round(solution_matrix[0]), \"\\nX2 =\", round(solution_matrix[1]), \"\\nX3 =\", round(solution_matrix[2]))"
   ]
  },
  {
   "cell_type": "code",
   "execution_count": 161,
   "id": "c7c64d4c-bfe1-49a4-8341-677a4e32f55c",
   "metadata": {},
   "outputs": [
    {
     "name": "stdout",
     "output_type": "stream",
     "text": [
      "X1 = 10 \n",
      "X2 = 6 \n",
      "X3 = 4\n"
     ]
    }
   ],
   "source": [
    "# Решение с помощью np.linalg.solve\n",
    "\n",
    "solution = np.linalg.solve(A, B)\n",
    "\n",
    "print(\"X1 =\", round(solution[0]), \"\\nX2 =\", round(solution[1]), \"\\nX3 =\", round(solution[2]))"
   ]
  },
  {
   "cell_type": "markdown",
   "id": "bdf028cd-5016-46fa-a966-b00730b4d1ca",
   "metadata": {},
   "source": [
    "**Ответ:** Первый сотрудник выполняет 10 задач, второй — 6, третий — 4."
   ]
  }
 ],
 "metadata": {
  "kernelspec": {
   "display_name": "Python [conda env:base] *",
   "language": "python",
   "name": "conda-base-py"
  },
  "language_info": {
   "codemirror_mode": {
    "name": "ipython",
    "version": 3
   },
   "file_extension": ".py",
   "mimetype": "text/x-python",
   "name": "python",
   "nbconvert_exporter": "python",
   "pygments_lexer": "ipython3",
   "version": "3.12.7"
  }
 },
 "nbformat": 4,
 "nbformat_minor": 5
}
